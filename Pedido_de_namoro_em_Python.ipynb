{
  "nbformat": 4,
  "nbformat_minor": 0,
  "metadata": {
    "colab": {
      "provenance": [],
      "authorship_tag": "ABX9TyMG6OZXLNocWE53Ktu34Qo9",
      "include_colab_link": true
    },
    "kernelspec": {
      "name": "python3",
      "display_name": "Python 3"
    },
    "language_info": {
      "name": "python"
    }
  },
  "cells": [
    {
      "cell_type": "markdown",
      "metadata": {
        "id": "view-in-github",
        "colab_type": "text"
      },
      "source": [
        "<a href=\"https://colab.research.google.com/github/luisclaudio29/Pedido-de-namoro-em-python/blob/main/Pedido_de_namoro_em_Python.ipynb\" target=\"_parent\"><img src=\"https://colab.research.google.com/assets/colab-badge.svg\" alt=\"Open In Colab\"/></a>"
      ]
    },
    {
      "cell_type": "code",
      "source": [
        "print(\"Quer namorar comigo?\")\n",
        "resposta = input(\"Digite 'sim' para aceitar ou 'não' para recusar: \")\n",
        "\n",
        "if resposta.lower() == \"sim\":\n",
        "    print(\"Você vai ser a namorada mais feliz do mundo!\")\n",
        "else:\n",
        "    print(\"Você quer sim, só está se fazendo de difícil kkkk!\")\n"
      ],
      "metadata": {
        "id": "86UoyYt8vOWV"
      },
      "execution_count": null,
      "outputs": []
    }
  ]
}